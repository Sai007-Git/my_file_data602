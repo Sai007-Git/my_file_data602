{
 "cells": [
  {
   "cell_type": "code",
   "execution_count": 3,
   "id": "e4c49f52-1661-4929-82b8-bec7ebcd3d49",
   "metadata": {},
   "outputs": [
    {
     "name": "stdout",
     "output_type": "stream",
     "text": [
      "PyTorch Version:  <module 'torch.version' from 'C:\\\\Users\\\\kenth\\\\AppData\\\\Local\\\\Programs\\\\Python\\\\Python311\\\\Lib\\\\site-packages\\\\torch\\\\version.py'>\n",
      "GPU Available:  True\n"
     ]
    }
   ],
   "source": [
    "import torch \n",
    "\n",
    "print(\"PyTorch Version: \", torch.version) \n",
    "print(\"GPU Available: \", torch.cuda.is_available())"
   ]
  }
 ],
 "metadata": {
  "kernelspec": {
   "display_name": "Python 3 (ipykernel)",
   "language": "python",
   "name": "python3"
  },
  "language_info": {
   "codemirror_mode": {
    "name": "ipython",
    "version": 3
   },
   "file_extension": ".py",
   "mimetype": "text/x-python",
   "name": "python",
   "nbconvert_exporter": "python",
   "pygments_lexer": "ipython3",
   "version": "3.11.5"
  }
 },
 "nbformat": 4,
 "nbformat_minor": 5
}
